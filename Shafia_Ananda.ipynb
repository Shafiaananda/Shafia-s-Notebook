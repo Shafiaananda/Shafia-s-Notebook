{
 "cells": [
  {
   "cell_type": "code",
   "execution_count": 2,
   "id": "22e90bad-029d-4f0b-ac29-4523c1c74bf2",
   "metadata": {},
   "outputs": [],
   "source": [
    "# Buku Catatan\n",
    "\n"
   ]
  },
  {
   "cell_type": "code",
   "execution_count": 3,
   "id": "433e8007-9314-41c1-a612-61bc39d59cb7",
   "metadata": {},
   "outputs": [],
   "source": [
    "## Kata Pengantar\n"
   ]
  },
  {
   "cell_type": "code",
   "execution_count": null,
   "id": "20977af7-75d5-4d0a-9cf8-76e9a1ea9227",
   "metadata": {},
   "outputs": [],
   "source": [
    "## Daftar Bahasa Ilmu Data\n",
    "1. Python\n",
    "2. R\n",
    "3. SQL\n",
    "4. Julia\n",
    "5. MATLAB\n"
   ]
  },
  {
   "cell_type": "code",
   "execution_count": null,
   "id": "f8d99c9b-77fc-4eed-964e-0f2a0162f47b",
   "metadata": {},
   "outputs": [],
   "source": [
    "## Daftar Pustaka Ilmu Data\n",
    "- *Python for Data Analysis* oleh Wes McKinney\n",
    "- *Data Science from Scratch* oleh Joel Grus\n",
    "- *The Elements of Statistical Learning* oleh Trevor Hastie, Robert Tibshirani, Jerome Friedman\n"
   ]
  },
  {
   "cell_type": "code",
   "execution_count": null,
   "id": "50a3facf-3c35-47a5-ad44-d5ee45aa9a12",
   "metadata": {},
   "outputs": [],
   "source": [
    "## Alat Bantu Ilmu Data\n",
    "\n",
    "| Alat       | Deskripsi                          |\n",
    "|------------|------------------------------------|\n",
    "| Python     | Bahasa pemrograman yang populer di ilmu data |\n",
    "| R          | Bahasa pemrograman untuk analisis statistik |\n",
    "| Jupyter    | Platform untuk membuat notebook interaktif |\n",
    "| Pandas     | Perpustakaan Python untuk analisis data |\n",
    "| NumPy      | Perpustakaan Python untuk komputasi numerik |\n"
   ]
  },
  {
   "cell_type": "code",
   "execution_count": null,
   "id": "695d8b90-b70a-4ddd-b9bd-291ed606cb84",
   "metadata": {},
   "outputs": [],
   "source": [
    "## Ekspresi Aritmatika\n",
    "Contoh ekspresi aritmatika sederhana:\n",
    "- Penjumlahan: `5 + 3`\n",
    "- Pengurangan: `5 - 3`\n",
    "- Perkalian: `5 * 3`\n",
    "- Pembagian: `5 / 3`\n"
   ]
  },
  {
   "cell_type": "code",
   "execution_count": 6,
   "id": "da32685a-7616-4f6a-be84-ee9ee293ff11",
   "metadata": {},
   "outputs": [
    {
     "name": "stdout",
     "output_type": "stream",
     "text": [
      "Penjumlahan: 8\n",
      "Perkalian: 15\n"
     ]
    }
   ],
   "source": [
    "# Kode untuk mengalikan dan menambahkan angka\n",
    "x = 5\n",
    "y = 3\n",
    "\n",
    "# Penjumlahan\n",
    "result_addition = x + y\n",
    "print(f\"Penjumlahan: {result_addition}\")\n",
    "\n",
    "# Perkalian\n",
    "result_multiplication = x * y\n",
    "print(f\"Perkalian: {result_multiplication}\")\n"
   ]
  },
  {
   "cell_type": "code",
   "execution_count": 8,
   "id": "18f8d192-2243-4c36-9b2d-0fc6c2cfc17b",
   "metadata": {},
   "outputs": [
    {
     "data": {
      "text/plain": [
       "2.5"
      ]
     },
     "execution_count": 8,
     "metadata": {},
     "output_type": "execute_result"
    }
   ],
   "source": [
    "menit = 150\n",
    "jam = menit / 60\n",
    "jam"
   ]
  },
  {
   "cell_type": "code",
   "execution_count": null,
   "id": "1e374b54-8ebc-43f4-a7b6-c8f14b63c6bc",
   "metadata": {},
   "outputs": [],
   "source": [
    "## Tujuan\n",
    "- Memahami konsep dasar ilmu data\n",
    "- Menguasai alat bantu yang digunakan dalam ilmu data\n",
    "- Mengembangkan kemampuan analisis data menggunakan Python dan R\n"
   ]
  },
  {
   "cell_type": "code",
   "execution_count": null,
   "id": "c8194440-1f83-49e4-9cb7-03eb615e1a26",
   "metadata": {},
   "outputs": [],
   "source": [
    "## Penulis\n",
    "Nama Penulis: [Nama Anda]\n"
   ]
  }
 ],
 "metadata": {
  "kernelspec": {
   "display_name": "Python 3 (ipykernel)",
   "language": "python",
   "name": "python3"
  },
  "language_info": {
   "codemirror_mode": {
    "name": "ipython",
    "version": 3
   },
   "file_extension": ".py",
   "mimetype": "text/x-python",
   "name": "python",
   "nbconvert_exporter": "python",
   "pygments_lexer": "ipython3",
   "version": "3.13.1"
  }
 },
 "nbformat": 4,
 "nbformat_minor": 5
}
